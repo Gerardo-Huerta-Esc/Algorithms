{
 "cells": [
  {
   "cell_type": "markdown",
   "id": "b257f007",
   "metadata": {},
   "source": [
    "### Unpacking Elements from a Sequence into Separate Variables"
   ]
  },
  {
   "cell_type": "markdown",
   "id": "bfe51247",
   "metadata": {},
   "source": [
    "**Problem:**\n",
    "You have a sequence or collection containing several elements, and you want to assign each element to a separate variable."
   ]
  },
  {
   "cell_type": "markdown",
   "id": "a8be682d",
   "metadata": {},
   "source": [
    "**Solution:**\n",
    "You can unpack any sequence (or iterable) into variables using simple assignment. \n",
    "The requirement is that the number of variables should match the number of elements in the sequence. For instance:"
   ]
  },
  {
   "cell_type": "code",
   "execution_count": 1,
   "id": "773052f3",
   "metadata": {},
   "outputs": [
    {
     "name": "stdout",
     "output_type": "stream",
     "text": [
      "10\n",
      "20\n"
     ]
    }
   ],
   "source": [
    "# Example 1: Unpacking a tuple\n",
    "coordinates = (10, 20)\n",
    "latitude, longitude = coordinates\n",
    "print(latitude)  # Output: 10\n",
    "print(longitude) # Output: 20"
   ]
  },
  {
   "cell_type": "code",
   "execution_count": null,
   "id": "f40657a0",
   "metadata": {},
   "outputs": [],
   "source": [
    "# Example 2: Unpacking a list\n",
    "info = ['WidgetCo', 200, 45.75, (2023, 5, 17)]\n",
    "company, quantity, price, date = info\n",
    "print(company)   # Output: 'WidgetCo'\n",
    "print(date)      # Output: (2023, 5, 17)"
   ]
  },
  {
   "cell_type": "code",
   "execution_count": null,
   "id": "20a7c5de",
   "metadata": {},
   "outputs": [],
   "source": [
    "# Nested unpacking\n",
    "company, quantity, price, (year, month, day) = info\n",
    "print(company)   # Output: 'WidgetCo'\n",
    "print(year)      # Output: 2023\n",
    "print(month)     # Output: 5\n",
    "print(day)       # Output: 17"
   ]
  },
  {
   "cell_type": "markdown",
   "id": "395fa43b",
   "metadata": {},
   "source": [
    "If the number of elements does not match the number of variables, an error will occur:"
   ]
  },
  {
   "cell_type": "code",
   "execution_count": null,
   "id": "54ad187b",
   "metadata": {},
   "outputs": [],
   "source": [
    "coordinates = (10, 20)\n",
    "latitude, longitude, altitude = coordinates\n",
    "# Output: ValueError: not enough values to unpack (expected 3, got 2)"
   ]
  },
  {
   "cell_type": "markdown",
   "id": "bd9f4155",
   "metadata": {},
   "source": [
    "**Discussion:**\n",
    "Unpacking can be applied to any iterable object, not just tuples or lists. \n",
    "This includes strings, files, iterators, and generators. For example:"
   ]
  },
  {
   "cell_type": "code",
   "execution_count": null,
   "id": "4754270e",
   "metadata": {},
   "outputs": [],
   "source": [
    "# Unpacking a string\n",
    "word = 'Hello'\n",
    "a, b, c, d, e = word\n",
    "print(a)  # Output: 'H'\n",
    "print(b)  # Output: 'e'\n",
    "print(e)  # Output: 'o'"
   ]
  },
  {
   "cell_type": "markdown",
   "id": "2259bcb9",
   "metadata": {},
   "source": [
    "Sometimes you may want to ignore certain values when unpacking. \n",
    "\n",
    "While Python does not have a specific syntax for this, you can use a throwaway variable name. For instance:"
   ]
  },
  {
   "cell_type": "code",
   "execution_count": null,
   "id": "1bb7facb",
   "metadata": {},
   "outputs": [],
   "source": [
    "info = ['WidgetCo', 200, 45.75, (2023, 5, 17)]\n",
    "_, quantity, price, _ = info\n",
    "print(quantity)  # Output: 200\n",
    "print(price)     # Output: 45.75"
   ]
  },
  {
   "cell_type": "markdown",
   "id": "de481349",
   "metadata": {},
   "source": [
    "Ensure that the throwaway variable name is not used elsewhere in your code."
   ]
  }
 ],
 "metadata": {
  "kernelspec": {
   "display_name": "Python 3",
   "language": "python",
   "name": "python3"
  },
  "language_info": {
   "codemirror_mode": {
    "name": "ipython",
    "version": 3
   },
   "file_extension": ".py",
   "mimetype": "text/x-python",
   "name": "python",
   "nbconvert_exporter": "python",
   "pygments_lexer": "ipython3",
   "version": "3.11.2"
  }
 },
 "nbformat": 4,
 "nbformat_minor": 5
}
