{
 "cells": [
  {
   "cell_type": "markdown",
   "metadata": {},
   "source": [
    "Escribir programa que genere y muestre por pantalla un DataFrame con los datos de la tabla siguiente:\n",
    "| Mes      | Ventas | Gastos |\n",
    "|----------|--------|--------|\n",
    "| Enero    | 30500  | 22000  |\n",
    "| Febrero  | 35600  | 23400  |\n",
    "| Marzo    | 28300  | 18100  |\n",
    "| Abril    | 33900  | 20700  |"
   ]
  },
  {
   "cell_type": "code",
   "execution_count": null,
   "metadata": {},
   "outputs": [],
   "source": []
  }
 ],
 "metadata": {
  "language_info": {
   "name": "python"
  }
 },
 "nbformat": 4,
 "nbformat_minor": 2
}
