{
 "cells": [
  {
   "cell_type": "markdown",
   "metadata": {},
   "source": [
    "El fichero [titanic.csv](titanic.csv) contiene información sobre los pasajeros del Titanic. Escribir un programa con los siguientes requisitos:\n",
    "\n",
    "1. Generar un DataFrame con los datos del fichero.\n",
    "2. Mostrar por pantalla las dimensiones del DataFrame, el número de datos que contiene, los nombres de sus columnas y filas, los tipos de datos de las columnas, las 10 primeras filas y las 10 últimas filas.\n",
    "3. Mostrar por pantalla los datos del pasajero con identificador 148.\n",
    "3. Mostrar por pantalla las filas pares del DataFrame.\n",
    "4. Mostrar por pantalla los nombres de las personas que iban en primera clase ordenadas alfabéticamente.\n",
    "5. Mostrar por pantalla el porcentaje de personas que sobrevivieron y murieron.\n",
    "5. Mostrar por pantalla el porcentaje de personas que sobrevivieron en cada clase.\n",
    "6. Eliminar del DataFrame los pasajeros con edad desconocida.\n",
    "7. Mostrar por pantalla la edad media de las mujeres que viajaban en cada clase.\n",
    "8.  Añadir una nueva columna booleana para ver si el pasajero era menor de edad o no.\n",
    "9.  Mostrar por pantalla el porcentaje de menores y mayores de edad que sobrevivieron en cada clase."
   ]
  },
  {
   "cell_type": "code",
   "execution_count": null,
   "metadata": {},
   "outputs": [],
   "source": []
  }
 ],
 "metadata": {
  "language_info": {
   "name": "python"
  }
 },
 "nbformat": 4,
 "nbformat_minor": 2
}
