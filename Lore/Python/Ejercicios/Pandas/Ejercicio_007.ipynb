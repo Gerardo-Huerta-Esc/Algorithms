{
 "cells": [
  {
   "cell_type": "markdown",
   "metadata": {},
   "source": [
    "El fichero [titanic.csv](titanic.csv) contiene información sobre los pasajeros del Titanic. Escribir un programa con los siguientes requisitos:\n",
    "\n",
    "1. Generar un DataFrame con los datos del fichero.\n",
    "2. Mostrar por pantalla las dimensiones del DataFrame, el número de datos que contiene, los nombres de sus columnas y filas, los tipos de datos de las columnas, las 10 primeras filas y las 10 últimas filas.\n",
    "3. Mostrar por pantalla los datos del pasajero con identificador 148.\n",
    "3. Mostrar por pantalla las filas pares del DataFrame.\n",
    "4. Mostrar por pantalla los nombres de las personas que iban en primera clase ordenadas alfabéticamente.\n",
    "5. Mostrar por pantalla el porcentaje de personas que sobrevivieron y murieron.\n",
    "5. Mostrar por pantalla el porcentaje de personas que sobrevivieron en cada clase.\n",
    "6. Eliminar del DataFrame los pasajeros con edad desconocida.\n",
    "7. Mostrar por pantalla la edad media de las mujeres que viajaban en cada clase.\n",
    "8.  Añadir una nueva columna booleana para ver si el pasajero era menor de edad o no.\n",
    "9.  Mostrar por pantalla el porcentaje de menores y mayores de edad que sobrevivieron en cada clase."
   ]
  },
  {
   "cell_type": "code",
   "execution_count": 2,
   "metadata": {},
   "outputs": [],
   "source": [
    "import pandas as pd"
   ]
  },
  {
   "cell_type": "markdown",
   "metadata": {},
   "source": [
    "### 1."
   ]
  },
  {
   "cell_type": "code",
   "execution_count": 10,
   "metadata": {},
   "outputs": [
    {
     "name": "stdout",
     "output_type": "stream",
     "text": [
      "<class 'pandas.core.frame.DataFrame'>\n"
     ]
    }
   ],
   "source": [
    "document = pd.read_csv('Z002_titanic.csv') # revisa si desde aquí es un dataframe, no lo sé\n",
    "document = pd.DataFrame(document) \n",
    "document\n",
    "print(type(document))"
   ]
  }
 ],
 "metadata": {
  "kernelspec": {
   "display_name": "Python 3",
   "language": "python",
   "name": "python3"
  },
  "language_info": {
   "codemirror_mode": {
    "name": "ipython",
    "version": 3
   },
   "file_extension": ".py",
   "mimetype": "text/x-python",
   "name": "python",
   "nbconvert_exporter": "python",
   "pygments_lexer": "ipython3",
   "version": "3.11.2"
  }
 },
 "nbformat": 4,
 "nbformat_minor": 2
}
