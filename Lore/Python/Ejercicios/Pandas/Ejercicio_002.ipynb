{
 "cells": [
  {
   "cell_type": "markdown",
   "metadata": {},
   "source": [
    "Escribir una función que reciba un diccionario con las notas de los alumno de un curso y devuelva una serie con la nota mínima, la máxima, media y la desviación típica."
   ]
  },
  {
   "cell_type": "code",
   "execution_count": 1,
   "metadata": {},
   "outputs": [],
   "source": [
    "import pandas as pd"
   ]
  },
  {
   "cell_type": "code",
   "execution_count": 62,
   "metadata": {},
   "outputs": [
    {
     "name": "stdout",
     "output_type": "stream",
     "text": [
      "Las calificaciones son:\n",
      "Calculo Avanzado       [8, 9, 5]\n",
      "Física Estadística    [10, 8, 9]\n",
      "Termodinámica         [10, 8, 9]\n",
      "dtype: object \n",
      "Media de las calificaiciones de cada materia:\n",
      "7.333333333333333\n",
      "9.0\n",
      "9.0\n",
      "Nota Maxima de las calificaiciones de cada materia:\n",
      "Max: 9\n",
      "Max: 10\n",
      "Max: 10\n",
      "Desviación típica de cada materia:\n",
      "2.0816659994661326\n",
      "1.0\n",
      "1.0\n"
     ]
    }
   ],
   "source": [
    "Notas = {\"Calculo Avanzado\":[8,9,5],\"Física Estadística\":[10,8,9],\"Termodinámica\":[10,8,9]}\n",
    "Notas\n",
    "def Estadística(diccionario):\n",
    "    datos = pd.Series(diccionario)\n",
    "    print(f'Las calificaciones son:\\n{datos} \\nMedia de las calificaiciones de cada materia:')\n",
    "    \n",
    "    for i in range(3):\n",
    "        media = pd.Series(datos[i]).mean()\n",
    "        print(media)\n",
    "\n",
    "    print(f'Nota Maxima de las calificaiciones de cada materia:')\n",
    "    for i in range(3):\n",
    "        max = pd.Series(datos[i]).max()\n",
    "        print(f'Max: {max}')\n",
    "    \n",
    "    print(f'Desviación típica de cada materia:')\n",
    "    for i in range(3):\n",
    "        std = pd.Series(datos[i]).std()\n",
    "        print(std)\n",
    "\n",
    "\n",
    "\n",
    "if __name__ == '__main__':\n",
    "    Estadística(Notas)"
   ]
  }
 ],
 "metadata": {
  "kernelspec": {
   "display_name": "Python 3",
   "language": "python",
   "name": "python3"
  },
  "language_info": {
   "codemirror_mode": {
    "name": "ipython",
    "version": 3
   },
   "file_extension": ".py",
   "mimetype": "text/x-python",
   "name": "python",
   "nbconvert_exporter": "python",
   "pygments_lexer": "ipython3",
   "version": "3.11.2"
  }
 },
 "nbformat": 4,
 "nbformat_minor": 2
}
