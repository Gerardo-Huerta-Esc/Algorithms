{
 "cells": [
  {
   "cell_type": "markdown",
   "metadata": {},
   "source": [
    "Escribir una función que reciba un diccionario con las notas de los alumnos de un curso y devuelva una serie con las notas de los alumnos aprobados ordenadas de mayor a menor."
   ]
  },
  {
   "cell_type": "code",
   "execution_count": 1,
   "metadata": {},
   "outputs": [],
   "source": [
    "import pandas as pd"
   ]
  },
  {
   "cell_type": "code",
   "execution_count": 56,
   "metadata": {},
   "outputs": [
    {
     "name": "stdout",
     "output_type": "stream",
     "text": [
      "Maris    10\n",
      "Lale      9\n",
      "Paqui     6\n",
      "dtype: int64\n"
     ]
    }
   ],
   "source": [
    "Notas = {\"Pichí\":5,\"Lale\":9,\"Maris\":10,\"Paqui\":6}\n",
    "\n",
    "aprobados = {}\n",
    "def funcion(diccionario):\n",
    "    for key in diccionario:\n",
    "        if diccionario[key] > 5.99:\n",
    "            aprobados[key] = diccionario[key]\n",
    "    aprobados_series = pd.Series(aprobados)\n",
    "    aprobados_ordenados = aprobados_series.sort_values(ascending=False)\n",
    "    print(aprobados_ordenados) \n",
    "    \n",
    "\n",
    "if __name__ == '__main__':\n",
    "    funcion(Notas)"
   ]
  }
 ],
 "metadata": {
  "kernelspec": {
   "display_name": "Python 3",
   "language": "python",
   "name": "python3"
  },
  "language_info": {
   "codemirror_mode": {
    "name": "ipython",
    "version": 3
   },
   "file_extension": ".py",
   "mimetype": "text/x-python",
   "name": "python",
   "nbconvert_exporter": "python",
   "pygments_lexer": "ipython3",
   "version": "3.11.2"
  }
 },
 "nbformat": 4,
 "nbformat_minor": 2
}
