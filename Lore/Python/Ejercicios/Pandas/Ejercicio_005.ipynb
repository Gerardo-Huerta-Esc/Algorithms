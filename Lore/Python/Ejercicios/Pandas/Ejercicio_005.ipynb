{
 "cells": [
  {
   "cell_type": "markdown",
   "metadata": {},
   "source": [
    "Escribir una función que reciba un DataFrame con el formato del ejercicio anterior, una lista de meses, y devuelva el balance (ventas - gastos) total en los meses indicados."
   ]
  },
  {
   "cell_type": "code",
   "execution_count": 1,
   "metadata": {},
   "outputs": [],
   "source": [
    "import pandas as pd"
   ]
  },
  {
   "cell_type": "code",
   "execution_count": 7,
   "metadata": {},
   "outputs": [
    {
     "name": "stdout",
     "output_type": "stream",
     "text": [
      "Datos sin balance:\n",
      "       Mes  Ventas  Gastos\n",
      "0    Enero   30500   22000\n",
      "1  Febrero   35600   23400\n",
      "2    Marzo   28300   18100\n",
      "3    Abril   33900   20700\n",
      "Datos con  balance:\n",
      "       Mes  Ventas  Gastos  Balance\n",
      "0    Enero   30500   22000     8500\n",
      "1  Febrero   35600   23400    12200\n",
      "2    Marzo   28300   18100    10200\n",
      "3    Abril   33900   20700    13200\n"
     ]
    }
   ],
   "source": [
    "datos = {'Mes':['Enero','Febrero','Marzo','Abril'],'Ventas':[30500,35600,28300,33900],'Gastos':[22000,23400,18100,20700]}\n",
    "datos = pd.DataFrame(datos)\n",
    "print(\"Datos sin balance:\")\n",
    "print(datos)\n",
    "\n",
    "def balance(data):\n",
    "    data['Balance'] = data['Ventas']-data['Gastos']\n",
    "    print(f\"Datos con  balance:\\n{datos}\")\n",
    "\n",
    "if __name__ == '__main__':\n",
    "    balance(datos)"
   ]
  }
 ],
 "metadata": {
  "kernelspec": {
   "display_name": "Python 3",
   "language": "python",
   "name": "python3"
  },
  "language_info": {
   "codemirror_mode": {
    "name": "ipython",
    "version": 3
   },
   "file_extension": ".py",
   "mimetype": "text/x-python",
   "name": "python",
   "nbconvert_exporter": "python",
   "pygments_lexer": "ipython3",
   "version": "3.11.2"
  }
 },
 "nbformat": 4,
 "nbformat_minor": 2
}
