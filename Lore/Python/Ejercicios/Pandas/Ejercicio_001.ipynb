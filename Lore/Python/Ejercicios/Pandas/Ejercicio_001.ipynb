{
 "cells": [
  {
   "cell_type": "markdown",
   "metadata": {},
   "source": [
    "Escribir un programa que pregunte al usuario por las ventas de un rango de años y muestre por pantalla una serie con los datos de las ventas indexada por los años, antes y después de aplicarles un descuento del 10%."
   ]
  },
  {
   "cell_type": "code",
   "execution_count": 2,
   "metadata": {},
   "outputs": [],
   "source": [
    "import pandas as pd "
   ]
  },
  {
   "cell_type": "code",
   "execution_count": 10,
   "metadata": {},
   "outputs": [
    {
     "data": {
      "text/plain": [
       "2001    1\n",
       "2002    2\n",
       "2003    3\n",
       "dtype: int64"
      ]
     },
     "execution_count": 10,
     "metadata": {},
     "output_type": "execute_result"
    }
   ],
   "source": [
    "ventas_2001 = int(input('Ingresa las ventas del 2001'))\n",
    "ventas_2002 = int(input('Ingresa las ventas del 2002'))\n",
    "ventas_2003 = int(input('Ingresa las ventas del 2003'))\n",
    "\n",
    "registro_sin_descuento = pd.Series([ventas_2001,ventas_2002,ventas_2003],index=['2001','2002','2003'])\n",
    "registro_sin_descuento"
   ]
  },
  {
   "cell_type": "code",
   "execution_count": 12,
   "metadata": {},
   "outputs": [
    {
     "name": "stdout",
     "output_type": "stream",
     "text": [
      "0.8\n",
      "1.6\n",
      "2.4000000000000004\n"
     ]
    }
   ],
   "source": [
    "print(registro_sin_descuento['2001']*0.8)\n",
    "print(registro_sin_descuento['2002']*0.8)\n",
    "print(registro_sin_descuento['2003']*0.8)"
   ]
  },
  {
   "cell_type": "code",
   "execution_count": 14,
   "metadata": {},
   "outputs": [
    {
     "name": "stdout",
     "output_type": "stream",
     "text": [
      "Venta con descuento del 20% para el año 2001: 0.8\n",
      "Venta con descuento del 20% para el año 2002: 1.6\n",
      "Venta con descuento del 20% para el año 2003: 2.4000000000000004\n"
     ]
    }
   ],
   "source": [
    "# una manera más elegante sería:\n",
    "descuentos = registro_sin_descuento * 0.8\n",
    "for year, descuento in descuentos.items():\n",
    "    print(f'Venta con descuento del 20% para el año {year}: {descuento}')"
   ]
  }
 ],
 "metadata": {
  "kernelspec": {
   "display_name": "Python 3",
   "language": "python",
   "name": "python3"
  },
  "language_info": {
   "codemirror_mode": {
    "name": "ipython",
    "version": 3
   },
   "file_extension": ".py",
   "mimetype": "text/x-python",
   "name": "python",
   "nbconvert_exporter": "python",
   "pygments_lexer": "ipython3",
   "version": "3.11.2"
  }
 },
 "nbformat": 4,
 "nbformat_minor": 2
}
